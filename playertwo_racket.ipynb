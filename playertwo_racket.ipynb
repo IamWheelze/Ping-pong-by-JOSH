{
 "cells": [
  {
   "cell_type": "code",
   "execution_count": null,
   "metadata": {},
   "outputs": [],
   "source": [
    "racket_two = turtle.Turtle()\n",
    "racket_two.speed(0)\n",
    "racket_two.shape('square')\n",
    "racket_two.color('green')\n",
    "racket_two.shapesize(stretch_wid=5, stretch_len=1)\n",
    "racket_two.penup()\n",
    "racket_two.goto(350, 0)"
   ]
  }
 ],
 "metadata": {
  "language_info": {
   "name": "python"
  }
 },
 "nbformat": 4,
 "nbformat_minor": 2
}
