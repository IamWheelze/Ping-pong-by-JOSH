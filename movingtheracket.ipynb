{
 "cells": [
  {
   "cell_type": "code",
   "execution_count": null,
   "metadata": {},
   "outputs": [],
   "source": [
    "# Function\n",
    "def racket_one_up():\n",
    "    y = racket_one.ycor()\n",
    "    y += 20\n",
    "    racket_one.sety(y)\n",
    "\n",
    "def racket_one_down():\n",
    "    y = racket_one.ycor()\n",
    "    y -= 20\n",
    "    racket_one.sety(y)\n",
    "\n",
    "def racket_two_up():\n",
    "    y = racket_two.ycor()\n",
    "    y += 20\n",
    "    racket_two.sety(y)\n",
    "\n",
    "def racket_two_down():\n",
    "    y = racket_two.ycor()\n",
    "    y -= 20\n",
    "    racket_two.sety(y)\n",
    "\n",
    "\n",
    "wn.listen()\n",
    "wn.onkeypress(racket_one_up, 'w')\n",
    "wn.onkeypress(racket_one_down, 's')\n",
    "wn.onkeypress(racket_two_up, 'Up')\n",
    "wn.onkeypress(racket_two_down, 'Down')"
   ]
  }
 ],
 "metadata": {
  "language_info": {
   "name": "python"
  }
 },
 "nbformat": 4,
 "nbformat_minor": 2
}
