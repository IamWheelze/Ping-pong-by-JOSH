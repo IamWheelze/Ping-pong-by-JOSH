{
 "cells": [
  {
   "cell_type": "code",
   "execution_count": null,
   "metadata": {},
   "outputs": [],
   "source": [
    " # Main game loop\n",
    "while True:\n",
    "    wn.update()\n",
    " # move ball\n",
    "    ball.setx(ball.xcor() + ball.dx)\n",
    "    ball.sety(ball.ycor() + ball.dy)\n",
    "    \n",
    "    if ball.ycor() > 290:\n",
    "        ball.sety(290)\n",
    "        ball.dy *= -1\n",
    "\n",
    "\n",
    "    if ball.ycor() < -290:\n",
    "        ball.sety(-290)\n",
    "        ball.dy *= -1\n",
    "\n",
    "    if ball.xcor() > 390:\n",
    "        ball.goto(0, 0)\n",
    "        ball.dx *= -1\n",
    "        score_a += 1\n",
    "        pen.clear()\n",
    "        pen.write(\"Player One: {}  Player Two: {}\".format(score_a, score_b), align=\"center\", font=(\"courier\", 24, \"normal\"))\n",
    "\n",
    "    if ball.xcor() < -390:\n",
    "        ball.goto(0, 0)\n",
    "        ball.dx *= -1\n",
    "        score_b += 1\n",
    "        pen.clear()\n",
    "        pen.write(\"Player One: {}  Player Two: {}\".format(score_a, score_b), align=\"center\", font=(\"courier\", 24, \"normal\"))\n",
    "        \n",
    "    if (ball.xcor() < -340 and ball.ycor() > -350) and (ball.ycor() < racket_one.ycor() + 40 and ball.ycor() > racket_one.ycor() - 40):\n",
    "        ball.setx(-340)\n",
    "        ball.dx *= -1\n",
    "        \n",
    "        \n",
    "    if (ball.xcor() > 340 and ball.xcor() > 350) and (ball.ycor() < racket_two.ycor() + 40 and ball.ycor() > racket_two.ycor() - 40):\n",
    "        ball.setx(340)\n",
    "        ball.dx *= -1"
   ]
  }
 ],
 "metadata": {
  "language_info": {
   "name": "python"
  }
 },
 "nbformat": 4,
 "nbformat_minor": 2
}
