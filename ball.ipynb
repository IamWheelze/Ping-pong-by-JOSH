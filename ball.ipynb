{
 "cells": [
  {
   "cell_type": "code",
   "execution_count": null,
   "metadata": {},
   "outputs": [],
   "source": [
    "ball = turtle.Turtle()\n",
    "ball.speed(0)\n",
    "ball.shape('circle')\n",
    "ball.color('yellow')\n",
    "ball.penup()\n",
    "ball.goto(0, 0)\n",
    "ball.dx = 0.1\n",
    "ball.dy = 0.1"
   ]
  }
 ],
 "metadata": {
  "language_info": {
   "name": "python"
  }
 },
 "nbformat": 4,
 "nbformat_minor": 2
}
