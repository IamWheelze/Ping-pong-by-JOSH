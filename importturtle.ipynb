{
 "cells": [
  {
   "cell_type": "code",
   "execution_count": null,
   "metadata": {},
   "outputs": [],
   "source": [
    "import turtle\n",
    "\n",
    "wn = turtle.Screen()\n",
    "wn.title('PoNg bY JoSh')\n",
    "wn.bgcolor('purple')\n",
    "wn.setup(width=800, height=600)\n",
    "wn.tracer(0)\n"
   ]
  }
 ],
 "metadata": {
  "language_info": {
   "name": "python"
  }
 },
 "nbformat": 4,
 "nbformat_minor": 2
}
