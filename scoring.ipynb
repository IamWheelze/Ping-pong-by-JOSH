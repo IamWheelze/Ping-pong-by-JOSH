{
 "cells": [
  {
   "cell_type": "code",
   "execution_count": null,
   "metadata": {},
   "outputs": [],
   "source": [
    "# score\n",
    "score_a = 0\n",
    "score_b = 0\n",
    "\n",
    "\n",
    "# scoring\n",
    "pen = turtle.Turtle()\n",
    "pen.speed(0)\n",
    "pen.color('white')\n",
    "pen.penup()\n",
    "pen.hideturtle()\n",
    "pen.goto(0, 260)\n",
    "pen.write(\"Player One: 0 Player Two: 0\", align=\"center\", font=(\"courier\", 24, \"normal\"))\n"
   ]
  }
 ],
 "metadata": {
  "language_info": {
   "name": "python"
  }
 },
 "nbformat": 4,
 "nbformat_minor": 2
}
