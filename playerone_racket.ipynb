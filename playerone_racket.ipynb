{
 "cells": [
  {
   "cell_type": "code",
   "execution_count": null,
   "metadata": {},
   "outputs": [],
   "source": [
    "racket_one = turtle.Turtle()\n",
    "racket_one.speed(0)\n",
    "racket_one.shape('square')\n",
    "racket_one.color('blue')\n",
    "racket_one.shapesize(stretch_wid=5, stretch_len=1)\n",
    "racket_one.penup()\n",
    "racket_one.goto(-350, 0)"
   ]
  }
 ],
 "metadata": {
  "language_info": {
   "name": "python"
  }
 },
 "nbformat": 4,
 "nbformat_minor": 2
}
